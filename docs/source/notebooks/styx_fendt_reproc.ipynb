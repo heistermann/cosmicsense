{
 "cells": [
  {
   "cell_type": "markdown",
   "metadata": {},
   "source": [
    "Hallo Till,\n",
    "\n",
    "anbei einige der konvertierten bzw. geretteten Daten. Die Zeitreihen sind in einem 'Hydroinnova-ähnlichen' Format. Da die Sonden mehrmals umkonfiguriert wurden und das HVlog nicht synchron zum restlichen Log läuft, sind es hier jeweils zwei Files mit Zeitfenstern, welche die Daten auf >15 min bzw. > 10 min akkumulieren.\n",
    "\n",
    "Für das file \"data\" sind die Daten in folgender Weise abgelegt\n",
    "Filenummer, YYYY/MM/DD HH:MM:SS, Druck[mbar], Temperatur[°C], Luftfeuchte[%],-1(an der Stelle steht bei Hydroinnova Vbat), Rate[cps], rel.Zeitstempel[s]\n",
    "\n",
    "Für das file \"dataAdd\" sind die Daten in folgender Weise abgelegt\n",
    "Filenummer, YYYY/MM/DD HH:MM:SS, Hochspannung[V], TemperaturHVModul[°C], Batteriespannung[V], rel.Zeitstempel[s]\n",
    "\n",
    "Die Daten sind direkte Konversionen der Rohdaten, ab und treten ein paar spikes auf, die kann man eventuell rausfiltern, aber ich sende euch jetzt hier die Daten so wie sie im Grunde von der Telemetrie gekommen wären.\n",
    "Die Daten selbst haben einige Löcher, in der Regel wenn die Batterie nicht mehr genug Spannung geliefert hat, bzw. bevor wir den FTP Upload ausgeschaltet hatten. Bei allen Sensoren sind die Daten bis zum Ende der Kampagne bzw. bis über den Transport nach Marquardt vorhanden, bis auf Sensor 12, welcher etwa am 02.07. endet, eventuell trat dort das Problem mit der SD Karte auf.\n",
    "\n",
    "Viele Grüße,"
   ]
  },
  {
   "cell_type": "code",
   "execution_count": 24,
   "metadata": {},
   "outputs": [],
   "source": [
    "%matplotlib inline"
   ]
  },
  {
   "cell_type": "code",
   "execution_count": 28,
   "metadata": {},
   "outputs": [],
   "source": [
    "# coding: utf-8\n",
    "\n",
    "import glob\n",
    "import os\n",
    "import pandas as pd\n",
    "import numpy as np\n",
    "import shutil\n",
    "from pathlib import Path\n",
    "import os.path as path\n",
    "import datetime as dt\n",
    "import matplotlib.pyplot as plt\n",
    "\n",
    "datadir = \"/media/x/cosmicsense/data/fendt/crns/sty_reproc/20190925\"\n",
    "trgdir = \"/media/x/cosmicsense/data/fendt/crns\"\n",
    "ids = [9,10,11,12,13]\n",
    "start_time = \"2019-11-01 00:00:00\""
   ]
  },
  {
   "cell_type": "code",
   "execution_count": 5,
   "metadata": {},
   "outputs": [],
   "source": [
    "cols = [\"rec_id\", \"datetime\", \"press1\", \"temp1\", \"relhum1\", \"volt\", \"cps\", \"reltime\"]\n",
    "cols2 = [\"rec_id\", \"datetime\", \"hv\", \"temp_hv\", \"volt\", \"reltime\"]"
   ]
  },
  {
   "cell_type": "code",
   "execution_count": 37,
   "metadata": {},
   "outputs": [
    {
     "name": "stdout",
     "output_type": "stream",
     "text": [
      "9\n",
      "10\n",
      "11\n",
      "12\n",
      "13\n"
     ]
    }
   ],
   "source": [
    "crns = {}\n",
    "for i, id in enumerate(ids):\n",
    "    print(id)\n",
    "    fname = path.join(datadir, \"N%ddata.dat\" % id)\n",
    "    df = pd.read_csv(fname, sep=\",\", comment=\"#\", header=None, error_bad_lines=False, warn_bad_lines=True)\n",
    "    df.columns = cols\n",
    "    df.datetime = pd.to_datetime(df.datetime, format=\"%Y/%m/%d %H:%M:%S\")\n",
    "    df = df.set_index(\"datetime\")\n",
    "    df[\"datetime\"] = df.index\n",
    "    df[\"nsecs1\"] = 1200\n",
    "    df.loc[1:, \"nsecs1\"] = np.array((df.index[1:] - df.index[0:-1]).total_seconds())\n",
    "    df[\"counts1\"] = df.nsecs1 * df.cps\n",
    "    df = df[[\"rec_id\", \"datetime\", \"press1\", \"temp1\", \"relhum1\", \"volt\", \"counts1\", \"nsecs1\", \"reltime\"]]\n",
    "    crns[id] = df\n",
    "    outfile = path.join(trgdir, \"%d/%d_CRNS_merge.txt\" % (id, id))\n",
    "    df.to_csv(outfile, sep=\"\\t\", index=False, date_format=\"%Y-%m-%d %H:%M:%S\")    "
   ]
  },
  {
   "cell_type": "code",
   "execution_count": 30,
   "metadata": {},
   "outputs": [
    {
     "data": {
      "text/plain": [
       "[<matplotlib.lines.Line2D at 0x7f99be663d30>]"
      ]
     },
     "execution_count": 30,
     "metadata": {},
     "output_type": "execute_result"
    },
    {
     "data": {
      "image/png": "[encoded data removed]",
      "text/plain": [
       "<Figure size 432x288 with 1 Axes>"
      ]
     },
     "metadata": {
      "needs_background": "light"
     },
     "output_type": "display_data"
    }
   ],
   "source": [
    "plt.plot(crns[9].index, crns[9].cps, \"bo\", ms=4, lw=0)"
   ]
  },
  {
   "cell_type": "code",
   "execution_count": 32,
   "metadata": {},
   "outputs": [
    {
     "data": {
      "text/plain": [
       "[<matplotlib.lines.Line2D at 0x7f99a55b4ac8>]"
      ]
     },
     "execution_count": 32,
     "metadata": {},
     "output_type": "execute_result"
    },
    {
     "data": {
      "image/png": "[encoded data removed]",
      "text/plain": [
       "<Figure size 432x288 with 1 Axes>"
      ]
     },
     "metadata": {
      "needs_background": "light"
     },
     "output_type": "display_data"
    }
   ],
   "source": [
    "plt.plot(crns[9].index, crns[9].counts1, \"bo\", ms=4, lw=0)"
   ]
  },
  {
   "cell_type": "code",
   "execution_count": 33,
   "metadata": {},
   "outputs": [
    {
     "data": {
      "text/plain": [
       "[<matplotlib.lines.Line2D at 0x7f99a5568358>]"
      ]
     },
     "execution_count": 33,
     "metadata": {},
     "output_type": "execute_result"
    },
    {
     "data": {
      "image/png": "[encoded data removed]",
      "text/plain": [
       "<Figure size 432x288 with 1 Axes>"
      ]
     },
     "metadata": {
      "needs_background": "light"
     },
     "output_type": "display_data"
    }
   ],
   "source": [
    "plt.plot(crns[9].index, crns[9].counts1/crns[9].nsecs1, \"bo\", ms=4, lw=0)"
   ]
  },
  {
   "cell_type": "code",
   "execution_count": null,
   "metadata": {},
   "outputs": [],
   "source": []
  }
 ],
 "metadata": {
  "kernelspec": {
   "display_name": "Python 3",
   "language": "python",
   "name": "python3"
  },
  "language_info": {
   "codemirror_mode": {
    "name": "ipython",
    "version": 3
   },
   "file_extension": ".py",
   "mimetype": "text/x-python",
   "name": "python",
   "nbconvert_exporter": "python",
   "pygments_lexer": "ipython3",
   "version": "3.7.3"
  }
 },
 "nbformat": 4,
 "nbformat_minor": 2
}
